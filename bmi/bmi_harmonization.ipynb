{
 "cells": [
  {
   "cell_type": "markdown",
   "metadata": {},
   "source": [
    "# BMI Comprehensive Harmonization for All of Us\n",
    "\n",
    "**Purpose**: Extract, clean, and harmonize BMI data with advanced quality control  \n",
    "**Author**: Bennett Waxse  \n",
    "**Created**: June 2025 \n",
    "**CDR Version**: v8  \n",
    "\n",
    "## Features\n",
    "- Multiple validated concept IDs for weight, height, BMI\n",
    "- Unit conversion and validation\n",
    "- 4-sigma outlier removal by unit type\n",
    "- Quality control metrics and validation plots\n",
    "- Temporal matching for cohort studies\n",
    "\n",
    "## Dependencies\n",
    "```\n",
    "pandas, polars, seaborn, matplotlib, google-cloud-bigquery\n",
    "```"
   ]
  },
  {
   "cell_type": "code",
   "execution_count": null,
   "metadata": {},
   "outputs": [],
   "source": [
    "# Standard imports\n",
    "import pandas as pd\n",
    "import polars as pl\n",
    "import numpy as np\n",
    "import matplotlib.pyplot as plt\n",
    "import seaborn as sns\n",
    "import os\n",
    "from google.cloud import bigquery\n",
    "\n",
    "# Configuration\n",
    "pd.set_option(\"display.max_columns\", None)\n",
    "pd.set_option('display.max_colwidth', 100)\n",
    "pl.Config.set_fmt_str_lengths(100)\n",
    "\n",
    "# Plotting style\n",
    "plt.style.use('default')\n",
    "sns.set_palette(\"husl\")"
   ]
  },
  {
   "cell_type": "code",
   "execution_count": null,
   "metadata": {},
   "outputs": [],
   "source": [
    "# All of Us Workbench Setup\n",
    "version = %env WORKSPACE_CDR\n",
    "print(\"CDR version: \" + version)\n",
    "\n",
    "my_bucket = os.getenv('WORKSPACE_BUCKET')\n",
    "print(\"Workspace bucket: \" + my_bucket)"
   ]
  },
  {
   "cell_type": "code",
   "execution_count": null,
   "metadata": {},
   "outputs": [],
   "source": [
    "def polars_gbq(query):\n",
    "    \"\"\"\n",
    "    Execute BigQuery SQL and return result as polars dataframe\n",
    "    \n",
    "    Args:\n",
    "        query: BigQuery SQL query string\n",
    "    \n",
    "    Returns:\n",
    "        pl.DataFrame: Query results\n",
    "    \"\"\"\n",
    "    client = bigquery.Client()\n",
    "    query_job = client.query(query)\n",
    "    rows = query_job.result()\n",
    "    df = pl.from_arrow(rows.to_arrow())\n",
    "    return df"
   ]
  },
  {
   "cell_type": "markdown",
   "metadata": {},
   "source": [
    "## 1. Validated Concept IDs\n",
    "\n",
    "These concept IDs have been validated against All of Us data to ensure they capture the relevant measurements."
   ]
  }
 ],
 "metadata": {
  "kernelspec": {
   "display_name": "Python 3",
   "language": "python",
   "name": "python3"
  },
  "language_info": {
   "codemirror_mode": {
    "name": "ipython",
    "version": 3
   },
   "file_extension": ".py",
   "mimetype": "text/x-python",
   "name": "python",
   "nbconvert_exporter": "python",
   "pygments_lexer": "ipython3",
   "version": "3.8.5"
  }
 },
 "nbformat": 4,
 "nbformat_minor": 4
}
